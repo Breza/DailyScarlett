{
 "cells": [
  {
   "metadata": {
    "ExecuteTime": {
     "end_time": "2025-06-26T15:34:07.863198Z",
     "start_time": "2025-06-26T15:34:07.848362Z"
    }
   },
   "cell_type": "code",
   "source": [
    "import json\n",
    "from datetime import datetime\n",
    "\n",
    "import requests\n",
    "\n",
    "# NOAA API Configuration\n",
    "USER_AGENT = \"DailyScarlett (https://github.com/Breza/DailyScarlett)\"\n",
    "POINT_URL = \"https://api.weather.gov/points/{lat},{lon}\"\n",
    "HEADERS = {\"User-Agent\": USER_AGENT}\n",
    "\n",
    "\n",
    "def get_forecast_data(lat, lon):\n",
    "    \"\"\"\n",
    "    Retrieve structured forecast and alerts for given latitude and longitude.\n",
    "\n",
    "    Args:\n",
    "        lat (float): The latitude for the forecast.\n",
    "        lon (float): The longitude for the forecast.\n",
    "\n",
    "    Returns:\n",
    "        dict: A dictionary containing forecast and alerts data, or an error message.\n",
    "    \"\"\"\n",
    "    try:\n",
    "        # Use a session object for connection pooling and default headers\n",
    "        with requests.Session() as session:\n",
    "            session.headers.update(HEADERS)\n",
    "\n",
    "            # Get NOAA location from coordinates\n",
    "            point_response = session.get(\n",
    "                POINT_URL.format(lat=lat, lon=lon),\n",
    "                timeout=10\n",
    "            )\n",
    "            point_response.raise_for_status()\n",
    "            point_data = point_response.json().get(\"properties\", {})\n",
    "\n",
    "            # Extract forecast and alerts URLs\n",
    "            forecast_url = point_data.get(\"forecast\")\n",
    "            alerts_url = f\"https://api.weather.gov/alerts/active?point={lat},{lon}\"\n",
    "\n",
    "            if not forecast_url:\n",
    "                return {\"error\": \"Could not retrieve forecast URL from the API.\"}\n",
    "\n",
    "            # Get 7-day forecast\n",
    "            forecast_response = session.get(forecast_url, timeout=10)\n",
    "            forecast_response.raise_for_status()\n",
    "            forecast_data = forecast_response.json()\n",
    "\n",
    "            # Get active alerts\n",
    "            alerts_response = session.get(alerts_url, timeout=10)\n",
    "            alerts_response.raise_for_status()\n",
    "            alerts_data = alerts_response.json()\n",
    "\n",
    "            return {\n",
    "                \"forecast\": process_forecast(forecast_data),\n",
    "                \"alerts\": process_alerts(alerts_data)\n",
    "            }\n",
    "\n",
    "    except requests.exceptions.RequestException as e:\n",
    "        return {\"error\": f\"API request failed: {e}\"}\n",
    "    except (KeyError, json.JSONDecodeError, AttributeError) as e:\n",
    "        return {\"error\": f\"Data processing error: {e}\"}\n",
    "\n",
    "\n",
    "def process_forecast(forecast_data):\n",
    "    \"\"\"\n",
    "    Extract today's and tomorrow's forecast from the raw forecast data.\n",
    "\n",
    "    Args:\n",
    "        forecast_data (dict): The JSON response from the forecast API endpoint.\n",
    "\n",
    "    Returns:\n",
    "        dict: A dictionary with today's and tomorrow's structured forecast.\n",
    "    \"\"\"\n",
    "    periods = forecast_data.get(\"properties\", {}).get(\"periods\", [])\n",
    "    if len(periods) < 4:\n",
    "        return {\"error\": \"Insufficient forecast data to process today and tomorrow.\"}\n",
    "\n",
    "    # Helper function to extract data for a given period\n",
    "    def get_period_data(day_period, night_period):\n",
    "        return {\n",
    "            \"high\": day_period.get(\"temperature\"),\n",
    "            \"low\": night_period.get(\"temperature\"),\n",
    "            \"day_condition\": day_period.get(\"shortForecast\"),\n",
    "            \"night_condition\": night_period.get(\"shortForecast\")\n",
    "        }\n",
    "\n",
    "    return {\n",
    "        \"today\": get_period_data(periods[0], periods[1]),\n",
    "        \"tomorrow\": get_period_data(periods[2], periods[3])\n",
    "    }\n",
    "\n",
    "\n",
    "def process_alerts(alerts_data):\n",
    "    \"\"\"\n",
    "    Extract and simplify active weather alerts, avoiding duplicates.\n",
    "\n",
    "    This function is designed to be portable across different Python versions\n",
    "    and operating systems (Windows, Linux).\n",
    "\n",
    "    Args:\n",
    "        alerts_data (dict): The JSON response from the active alerts API endpoint.\n",
    "\n",
    "    Returns:\n",
    "        list: A list of simplified alert dictionaries, limited to the first two unique events.\n",
    "    \"\"\"\n",
    "    unique_events = set()\n",
    "    processed_alerts = []\n",
    "\n",
    "    for alert in alerts_data.get(\"features\", []):\n",
    "        props = alert.get(\"properties\", {})\n",
    "        event = props.get(\"event\")\n",
    "\n",
    "        if event and event not in unique_events:\n",
    "            unique_events.add(event)\n",
    "\n",
    "            expires_iso = props.get(\"expires\")\n",
    "            expires_time = \"N/A\"\n",
    "\n",
    "            if expires_iso:\n",
    "                try:\n",
    "                    # Portability fix for older Python versions (pre-3.11) that\n",
    "                    # cannot parse timezone offsets with a colon (e.g., +00:00).\n",
    "                    # We manually remove the colon from the timezone offset.\n",
    "                    if \":\" == expires_iso[-3]:\n",
    "                        expires_iso = expires_iso[:-3] + expires_iso[-2:]\n",
    "\n",
    "                    dt = datetime.fromisoformat(expires_iso)\n",
    "\n",
    "                    # Portability fix for Windows: strftime(\"%-I\") is not supported.\n",
    "                    # Use the original, more portable method for 12-hour format.\n",
    "                    hour = dt.strftime(\"%I\").lstrip(\"0\")\n",
    "                    if not hour:  # Handles midnight case where lstrip leaves an empty string\n",
    "                        hour = \"12\"\n",
    "                    expires_time = f\"{hour}:{dt:%M} {dt:%p}\"\n",
    "\n",
    "                except (ValueError, TypeError):\n",
    "                    expires_time = \"Invalid time format\"\n",
    "\n",
    "            processed_alerts.append({\n",
    "                \"severity\": props.get(\"severity\"),\n",
    "                \"event\": event,\n",
    "                \"expires\": expires_time\n",
    "            })\n",
    "\n",
    "            if len(processed_alerts) >= 2:\n",
    "                break\n",
    "\n",
    "    return processed_alerts"
   ],
   "id": "1c4eeb7910169859",
   "outputs": [],
   "execution_count": 9
  },
  {
   "metadata": {
    "ExecuteTime": {
     "end_time": "2025-06-26T15:34:08.633079Z",
     "start_time": "2025-06-26T15:34:08.350004Z"
    }
   },
   "cell_type": "code",
   "source": [
    "if __name__ == \"__main__\":\n",
    "    # My house's coordinates\n",
    "    LATITUDE = 38.904069\n",
    "    LONGITUDE = -76.936207\n",
    "\n",
    "    weather_data = get_forecast_data(LATITUDE, LONGITUDE)\n",
    "\n",
    "    try:\n",
    "        with open(\"daily_weather.json\", \"w\") as f:\n",
    "            json.dump(weather_data, f, indent=2)\n",
    "        print(\"Weather data saved to daily_weather.json\")\n",
    "    except IOError as e:\n",
    "        print(f\"Error writing to file: {e}\")"
   ],
   "id": "eb9e374488e8f92c",
   "outputs": [
    {
     "name": "stdout",
     "output_type": "stream",
     "text": [
      "Weather data saved to daily_weather.json\n"
     ]
    }
   ],
   "execution_count": 10
  },
  {
   "metadata": {
    "ExecuteTime": {
     "end_time": "2025-06-26T15:46:42.560276Z",
     "start_time": "2025-06-26T15:46:42.555815Z"
    }
   },
   "cell_type": "code",
   "source": "weather_data['weekday'] = datetime.now().strftime('%A')",
   "id": "3f4bad1eddef4c13",
   "outputs": [],
   "execution_count": 16
  },
  {
   "metadata": {
    "ExecuteTime": {
     "end_time": "2025-06-26T15:46:43.724453Z",
     "start_time": "2025-06-26T15:46:43.717275Z"
    }
   },
   "cell_type": "code",
   "source": "weather_data",
   "id": "3422256c9b6c686a",
   "outputs": [
    {
     "data": {
      "text/plain": [
       "{'forecast': {'today': {'high': 95,\n",
       "   'low': 72,\n",
       "   'day_condition': 'Mostly Sunny then Scattered Showers And Thunderstorms',\n",
       "   'night_condition': 'Scattered Showers And Thunderstorms'},\n",
       "  'tomorrow': {'high': 81,\n",
       "   'low': 73,\n",
       "   'day_condition': 'Showers And Thunderstorms Likely',\n",
       "   'night_condition': 'Showers And Thunderstorms Likely then Chance Showers And Thunderstorms'}},\n",
       " 'alerts': [{'severity': 'Severe',\n",
       "   'event': 'Flood Watch',\n",
       "   'expires': '7:30 PM'},\n",
       "  {'severity': 'Moderate', 'event': 'Heat Advisory', 'expires': '6:45 PM'}],\n",
       " 'weekday': 'Thursday'}"
      ]
     },
     "execution_count": 17,
     "metadata": {},
     "output_type": "execute_result"
    }
   ],
   "execution_count": 17
  },
  {
   "metadata": {
    "ExecuteTime": {
     "end_time": "2025-06-26T17:55:57.660151Z",
     "start_time": "2025-06-26T17:55:57.653500Z"
    }
   },
   "cell_type": "code",
   "source": "from printer import print_receipt",
   "id": "6099122917fba4a9",
   "outputs": [],
   "execution_count": 43
  },
  {
   "metadata": {
    "ExecuteTime": {
     "end_time": "2025-06-26T17:55:59.480791Z",
     "start_time": "2025-06-26T17:55:59.439523Z"
    }
   },
   "cell_type": "code",
   "source": "print_receipt(\"Hello Andreas! I have a receipt printer now.\")",
   "id": "a75ee5e6a334026",
   "outputs": [
    {
     "name": "stdout",
     "output_type": "stream",
     "text": [
      "Print job sent.\n",
      "Printer connection closed.\n"
     ]
    }
   ],
   "execution_count": 44
  },
  {
   "metadata": {},
   "cell_type": "code",
   "outputs": [],
   "execution_count": null,
   "source": "",
   "id": "65eb69c97c0e6f82"
  }
 ],
 "metadata": {
  "kernelspec": {
   "display_name": "Python 3",
   "language": "python",
   "name": "python3"
  },
  "language_info": {
   "codemirror_mode": {
    "name": "ipython",
    "version": 2
   },
   "file_extension": ".py",
   "mimetype": "text/x-python",
   "name": "python",
   "nbconvert_exporter": "python",
   "pygments_lexer": "ipython2",
   "version": "2.7.6"
  }
 },
 "nbformat": 4,
 "nbformat_minor": 5
}
